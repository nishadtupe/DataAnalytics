{
 "cells": [
  {
   "cell_type": "markdown",
   "metadata": {},
   "source": [
    "# Regular Expressions"
   ]
  },
  {
   "cell_type": "markdown",
   "metadata": {},
   "source": [
    "Created by Olga Scrivner\n",
    "\n",
    "Date: 01/24/2019\n",
    "\n",
    "Objective: Practice for Regular Expressions - week 4"
   ]
  },
  {
   "cell_type": "markdown",
   "metadata": {},
   "source": [
    "## Scraping text"
   ]
  },
  {
   "cell_type": "code",
   "execution_count": 7,
   "metadata": {},
   "outputs": [
    {
     "name": "stdout",
     "output_type": "stream",
     "text": [
      "0 {\"omniture\":{\"columnist\":\"lowe_zach\",\"league\":\"nba\",\"countryRegion\":\"en-us\",\"hier1\":\"nba:story\",\"section\":\"nba\",\"source\":\"espn.com\",\"pageName\":\"nba:story\",\"storyInfo\":\"22258759+zach-lowe-blake-griffin-trade-future-la-clippers-detroit-pistons\",\"sections\":\"nba:story\",\"site\":\"espn\",\"premium\":\"premium-no\",\"convrSport\":\"basketball\",\"pageURL\":\"www.espn.com/nba/story/_/id/22258759/zach-lowe-blake-griffin-trade-future-la-clippers-detroit-pistons\",\"lang\":\"en_us\",\"prop35\":\"2018-01-30\",\"contentType\":\"story\",\"sport\":\"basketball\",\"account\":\"wdgespcom\",\"siteType\":\"full\",\"prop58\":\"isIndex=false\"}\n"
     ]
    }
   ],
   "source": [
    "f = open('nba.txt')\n",
    "content = f.readlines() \n",
    "f.close()\n",
    "for i,line in enumerate(content): #iterate through every line\n",
    "    print(i,line)"
   ]
  },
  {
   "cell_type": "code",
   "execution_count": 8,
   "metadata": {},
   "outputs": [],
   "source": [
    " text = '''{\"omniture\":{\"columnist\":\"lowe_zach\",\"league\":\"nba\",\"countryRegion\":\"en-us\",\"hier1\":\"nba:story\",\"section\":\"nba\",\"source\":\"espn.com\",\"pageName\":\"nba:story\",\"storyInfo\":\"22258759+zach-lowe-blake-griffin-trade-future-la-clippers-detroit-pistons\",\"sections\":\"nba:story\",\"site\":\"espn\",\"premium\":\"premium-no\",\"convrSport\":\"basketball\",\"pageURL\":\"www.espn.com/nba/story/_/id/22258759/zach-lowe-blake-griffin-trade-future-la-clippers-detroit-pistons\",\"lang\":\"en_us\",\"prop35\":\"2018-01-30\",\"contentType\":\"story\",\"sport\":\"basketball\",\"account\":\"wdgespcom\",\"siteType\":\"full\",\"prop58\":\"isIndex=false\"}'''"
   ]
  },
  {
   "cell_type": "code",
   "execution_count": 38,
   "metadata": {},
   "outputs": [
    {
     "name": "stdout",
     "output_type": "stream",
     "text": [
      "\"prop35\":\"2018-01-30\"\n"
     ]
    }
   ],
   "source": [
    "m = re.search('\\S\\w+.\\S.[0-9]{4}-\\d+-\\d+.',text)\n",
    "print(m.group(0))"
   ]
  },
  {
   "cell_type": "code",
   "execution_count": 71,
   "metadata": {},
   "outputs": [
    {
     "name": "stdout",
     "output_type": "stream",
     "text": [
      "\"columnist\":\"lowe_zach\"\n"
     ]
    }
   ],
   "source": [
    "m = re.search('\\S\\w{9}\\S+\\w+\\_\\w{4}\\S',text)\n",
    "print(m.group(0))"
   ]
  },
  {
   "cell_type": "code",
   "execution_count": 41,
   "metadata": {},
   "outputs": [
    {
     "data": {
      "text/plain": [
       "['\"prop35\":\"2018-01-30\"']"
      ]
     },
     "execution_count": 41,
     "metadata": {},
     "output_type": "execute_result"
    }
   ],
   "source": [
    "re.findall('\\S\\w+.\\S.[0-9]{4}-\\d+-\\d+.',text)"
   ]
  },
  {
   "cell_type": "code",
   "execution_count": 70,
   "metadata": {},
   "outputs": [
    {
     "data": {
      "text/plain": [
       "['\"columnist\":\"lowe_zach\"']"
      ]
     },
     "execution_count": 70,
     "metadata": {},
     "output_type": "execute_result"
    }
   ],
   "source": [
    "re.findall('\\S\\w{9}\\S+\\w+\\_\\w{4}\\S',text)"
   ]
  },
  {
   "cell_type": "code",
   "execution_count": 4,
   "metadata": {},
   "outputs": [
    {
     "name": "stdout",
     "output_type": "stream",
     "text": [
      "['8:35 to 9:35 a.m.']\n"
     ]
    }
   ],
   "source": [
    "f = open('scraping.txt')\n",
    "content = f.readlines() \n",
    "f.close()\n",
    "for line in content: #iterate through every line\n",
    "    #print(line)\n",
    "    x = re.findall('\\d\\:\\d{2}\\s\\w+\\s\\d\\:\\d{2}\\s.+', line)\n",
    "    if len(x) != 0:\n",
    "        print(x)"
   ]
  },
  {
   "cell_type": "code",
   "execution_count": 1,
   "metadata": {},
   "outputs": [],
   "source": [
    "import re"
   ]
  },
  {
   "cell_type": "code",
   "execution_count": 2,
   "metadata": {},
   "outputs": [
    {
     "name": "stdout",
     "output_type": "stream",
     "text": [
      "['March 11, 2016']\n",
      "['March 11, 2016']\n",
      "['February 12, 2016']\n",
      "['March 25, 2016']\n",
      "['March 12, 2016']\n"
     ]
    }
   ],
   "source": [
    "f = open('scraping.txt')\n",
    "content = f.readlines() \n",
    "f.close()\n",
    "for line in content: #iterate through every line\n",
    "    #print(line)\n",
    "    x = re.findall('[a-zA-Z]+\\s[0-9][0-9],\\s[0-9]{4}', line)\n",
    "    #if a date is found\n",
    "    if len(x) != 0:\n",
    "        print(x)"
   ]
  },
  {
   "cell_type": "markdown",
   "metadata": {},
   "source": [
    "### Compiling Patterns"
   ]
  },
  {
   "cell_type": "code",
   "execution_count": 3,
   "metadata": {},
   "outputs": [
    {
     "name": "stdout",
     "output_type": "stream",
     "text": [
      "007\n"
     ]
    }
   ],
   "source": [
    "pattern = re.compile(r\"\\d+\") # any numerics [0-9]+\n",
    "\n",
    "string = \"007 James Bond\"\n",
    "\n",
    "result = pattern.match(string)\n",
    "\n",
    "print(result.group())"
   ]
  },
  {
   "cell_type": "markdown",
   "metadata": {},
   "source": [
    "create an object with the search pattern"
   ]
  },
  {
   "cell_type": "code",
   "execution_count": 4,
   "metadata": {},
   "outputs": [],
   "source": [
    "pattern = re.compile(r\"[a-zA-Z]+\\s[0-9][0-9],\\s[0-9]{4}\")"
   ]
  },
  {
   "cell_type": "markdown",
   "metadata": {},
   "source": [
    "Clean text: combine all lines, remove trailing spaces and new lines"
   ]
  },
  {
   "cell_type": "code",
   "execution_count": 5,
   "metadata": {},
   "outputs": [
    {
     "name": "stdout",
     "output_type": "stream",
     "text": [
      "Friday, March 11, 2016 8:35 to 9:35 a.m. Barona Resort 1932 Wildcat Canyon Road Lakeside, CA 92040 643765rdddtFriday, March 11, 2016iyfutkdkyrz ITEM NO. +1. The Executive Committee is asked to review and approve the minutes from its February 12, 2016, meeting. +3A. Draft Board Business Agenda - March 25, 2016 +3B. Draft Board Policy Agenda --iytdutrs April 8, 2016khnckhnc +4. Saturday, March 12, 2016 12:30 to 13:35 p.m. Wailea Resort ITEM NO. +1. The Executive committee adjorns\n"
     ]
    }
   ],
   "source": [
    "strings = \" \".join(line.strip().rstrip(\"\\n\") for line in content)\n",
    "print(strings)\n"
   ]
  },
  {
   "cell_type": "markdown",
   "metadata": {},
   "source": [
    "**Using re.findall**"
   ]
  },
  {
   "cell_type": "code",
   "execution_count": 6,
   "metadata": {},
   "outputs": [
    {
     "data": {
      "text/plain": [
       "['March 11, 2016',\n",
       " 'March 11, 2016',\n",
       " 'February 12, 2016',\n",
       " 'March 25, 2016',\n",
       " 'March 12, 2016']"
      ]
     },
     "execution_count": 6,
     "metadata": {},
     "output_type": "execute_result"
    }
   ],
   "source": [
    "re.findall(pattern, strings)"
   ]
  },
  {
   "cell_type": "markdown",
   "metadata": {},
   "source": [
    "### Manipulating Strings\n",
    "\n",
    "split into words"
   ]
  },
  {
   "cell_type": "code",
   "execution_count": 8,
   "metadata": {},
   "outputs": [
    {
     "name": "stdout",
     "output_type": "stream",
     "text": [
      "['Friday, March 11, 2016\\n', '8:35 to 9:35 a.m.\\n', 'Barona Resort\\n', '1932 Wildcat Canyon Road\\n', 'Lakeside, CA 92040\\n', '643765rdddtFriday, March 11, 2016iyfutkdkyrz\\n', 'ITEM NO.\\n', '+1.\\n', 'The Executive Committee is asked to review and approve the minutes from its\\n', 'February 12, 2016, meeting.\\n', '+3A. Draft Board Business Agenda - March 25, 2016\\n', '+3B. Draft Board Policy Agenda --iytdutrs April 8, 2016khnckhnc\\n', '+4.\\n', 'Saturday, March 12, 2016\\n', '12:30 to 13:35 p.m.\\n', 'Wailea Resort\\n', 'ITEM NO.\\n', '+1. The Executive committee adjorns']\n"
     ]
    }
   ],
   "source": [
    "print(content)"
   ]
  },
  {
   "cell_type": "markdown",
   "metadata": {},
   "source": [
    "**Using re.compile**"
   ]
  },
  {
   "cell_type": "code",
   "execution_count": 9,
   "metadata": {},
   "outputs": [
    {
     "name": "stdout",
     "output_type": "stream",
     "text": [
      "8:35 to 9:35 a.m.\n"
     ]
    }
   ],
   "source": [
    "import re\n",
    "f = open('./scraping.txt')\n",
    "content = f.readlines() \n",
    "f.close()\n",
    "\n",
    "strings = [line.strip().rstrip(\"\\n\") for line in content]\n",
    "\n",
    "pattern =  re.compile(r'\\d\\:\\d{2}\\s\\w+\\s\\d\\:\\d{2}\\s.+')\n",
    "\n",
    "for word in strings:\n",
    "    results = pattern.match(word)\n",
    "    if bool(results):\n",
    "        print(results.group())"
   ]
  },
  {
   "cell_type": "markdown",
   "metadata": {},
   "source": [
    "**Using re.search**"
   ]
  },
  {
   "cell_type": "code",
   "execution_count": 10,
   "metadata": {},
   "outputs": [
    {
     "name": "stdout",
     "output_type": "stream",
     "text": [
      "8:35 to 9:35 a.m.\n"
     ]
    }
   ],
   "source": [
    "f = open('./scraping.txt')\n",
    "content = f.readlines() \n",
    "f.close()\n",
    "\n",
    "for line in content: #iterate through every line\n",
    "     if line.find(\":\") != -1:\n",
    "        results = re.search(r'\\d\\:\\d{2}\\s\\w+\\s\\d\\:\\d{2}\\s.+',line)\n",
    "        if bool(results):\n",
    "            print(results.group(0))"
   ]
  },
  {
   "cell_type": "code",
   "execution_count": null,
   "metadata": {},
   "outputs": [],
   "source": []
  }
 ],
 "metadata": {
  "kernelspec": {
   "display_name": "Python 3",
   "language": "python",
   "name": "python3"
  },
  "language_info": {
   "codemirror_mode": {
    "name": "ipython",
    "version": 3
   },
   "file_extension": ".py",
   "mimetype": "text/x-python",
   "name": "python",
   "nbconvert_exporter": "python",
   "pygments_lexer": "ipython3",
   "version": "3.6.5"
  }
 },
 "nbformat": 4,
 "nbformat_minor": 2
}
